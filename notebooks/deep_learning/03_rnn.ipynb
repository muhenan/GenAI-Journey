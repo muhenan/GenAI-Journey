{
 "cells": [
  {
   "cell_type": "code",
   "execution_count": 1,
   "id": "458ade84-507a-44a1-8bce-16aec601721b",
   "metadata": {},
   "outputs": [
    {
     "name": "stderr",
     "output_type": "stream",
     "text": [
      "C:\\Users\\henan\\.conda\\envs\\Deeplearning-4-25-2025\\lib\\site-packages\\tqdm\\auto.py:21: TqdmWarning: IProgress not found. Please update jupyter and ipywidgets. See https://ipywidgets.readthedocs.io/en/stable/user_install.html\n",
      "  from .autonotebook import tqdm as notebook_tqdm\n"
     ]
    }
   ],
   "source": [
    "import torch\n",
    "import torch.nn as nn\n",
    "import torch.optim as optim\n",
    "from datasets import load_dataset\n",
    "from torch.utils.data import DataLoader\n",
    "from torch.nn.utils.rnn import pad_sequence\n",
    "from collections import Counter\n",
    "from tqdm import tqdm"
   ]
  },
  {
   "cell_type": "code",
   "execution_count": 2,
   "id": "132f50bb-3431-4e06-bb66-800fde55ce37",
   "metadata": {},
   "outputs": [
    {
     "name": "stdout",
     "output_type": "stream",
     "text": [
      "Train samples: 2500\n",
      "Test samples: 2500\n"
     ]
    }
   ],
   "source": [
    "# 1. 加载 IMDb数据集（小版本）\n",
    "dataset = load_dataset(\"imdb\", split=\"train[:10%]\")  # 只取10%训练数据，加速测试\n",
    "test_dataset = load_dataset(\"imdb\", split=\"test[:10%]\")\n",
    "\n",
    "print(f\"Train samples: {len(dataset)}\")\n",
    "print(f\"Test samples: {len(test_dataset)}\")"
   ]
  },
  {
   "cell_type": "code",
   "execution_count": 3,
   "id": "e2b10542-52c0-4f54-9e2c-427d7addd2f2",
   "metadata": {},
   "outputs": [
    {
     "name": "stdout",
     "output_type": "stream",
     "text": [
      "Dataset({\n",
      "    features: ['text', 'label'],\n",
      "    num_rows: 2500\n",
      "})\n"
     ]
    }
   ],
   "source": [
    "print(dataset)"
   ]
  },
  {
   "cell_type": "code",
   "execution_count": 4,
   "id": "2f67c644-a200-425a-ac90-c2ee57384b21",
   "metadata": {},
   "outputs": [
    {
     "name": "stdout",
     "output_type": "stream",
     "text": [
      "Sample 0:\n",
      "Text: I rented I AM CURIOUS-YELLOW from my video store because of all the controversy that surrounded it when it was first released in 1967. I also heard that at first it was seized by U.S. customs if it ever tried to enter this country, therefore being a fan of films considered \"controversial\" I really had to see this for myself.<br /><br />The plot is centered around a young Swedish drama student named Lena who wants to learn everything she can about life. In particular she wants to focus her attentions to making some sort of documentary on what the average Swede thought about certain political issues such as the Vietnam War and race issues in the United States. In between asking politicians and ordinary denizens of Stockholm about their opinions on politics, she has sex with her drama teacher, classmates, and married men.<br /><br />What kills me about I AM CURIOUS-YELLOW is that 40 years ago, this was considered pornographic. Really, the sex and nudity scenes are few and far between, even then it's not shot like some cheaply made porno. While my countrymen mind find it shocking, in reality sex and nudity are a major staple in Swedish cinema. Even Ingmar Bergman, arguably their answer to good old boy John Ford, had sex scenes in his films.<br /><br />I do commend the filmmakers for the fact that any sex shown in the film is shown for artistic purposes rather than just to shock people and make money to be shown in pornographic theaters in America. I AM CURIOUS-YELLOW is a good film for anyone wanting to study the meat and potatoes (no pun intended) of Swedish cinema. But really, this film doesn't have much of a plot.\n",
      "Label: 0\n",
      "------------------------------\n",
      "Sample 1:\n",
      "Text: \"I Am Curious: Yellow\" is a risible and pretentious steaming pile. It doesn't matter what one's political views are because this film can hardly be taken seriously on any level. As for the claim that frontal male nudity is an automatic NC-17, that isn't true. I've seen R-rated films with male nudity. Granted, they only offer some fleeting views, but where are the R-rated films with gaping vulvas and flapping labia? Nowhere, because they don't exist. The same goes for those crappy cable shows: schlongs swinging in the breeze but not a clitoris in sight. And those pretentious indie movies like The Brown Bunny, in which we're treated to the site of Vincent Gallo's throbbing johnson, but not a trace of pink visible on Chloe Sevigny. Before crying (or implying) \"double-standard\" in matters of nudity, the mentally obtuse should take into account one unavoidably obvious anatomical difference between men and women: there are no genitals on display when actresses appears nude, and the same cannot be said for a man. In fact, you generally won't see female genitals in an American film in anything short of porn or explicit erotica. This alleged double-standard is less a double standard than an admittedly depressing ability to come to terms culturally with the insides of women's bodies.\n",
      "Label: 0\n",
      "------------------------------\n",
      "Sample 2:\n",
      "Text: If only to avoid making this type of film in the future. This film is interesting as an experiment but tells no cogent story.<br /><br />One might feel virtuous for sitting thru it because it touches on so many IMPORTANT issues but it does so without any discernable motive. The viewer comes away with no new perspectives (unless one comes up with one while one's mind wanders, as it will invariably do during this pointless film).<br /><br />One might better spend one's time staring out a window at a tree growing.<br /><br />\n",
      "Label: 0\n",
      "------------------------------\n"
     ]
    }
   ],
   "source": [
    "for i in range(3):\n",
    "    item = dataset[i]\n",
    "    text = item[\"text\"]\n",
    "    label = item[\"label\"]\n",
    "    print(f\"Sample {i}:\")\n",
    "    print(\"Text:\", text)\n",
    "    print(\"Label:\", label)\n",
    "    print(\"-\" * 30)\n"
   ]
  },
  {
   "cell_type": "code",
   "execution_count": 5,
   "id": "0026cada-41f1-4608-a0e1-1b53485d939f",
   "metadata": {},
   "outputs": [
    {
     "name": "stdout",
     "output_type": "stream",
     "text": [
      "Vocab size: 55780\n"
     ]
    }
   ],
   "source": [
    "# 2. 建立词表\n",
    "all_text = \" \".join(dataset[\"text\"])\n",
    "words = all_text.lower().split()\n",
    "word_counts = Counter(words)\n",
    "vocab = {word: idx+2 for idx, (word, _) in enumerate(word_counts.items())}  # +2为了留0给PAD，1给UNK\n",
    "vocab[\"<PAD>\"] = 0\n",
    "vocab[\"<UNK>\"] = 1\n",
    "\n",
    "print(f\"Vocab size: {len(vocab)}\")"
   ]
  },
  {
   "cell_type": "code",
   "execution_count": 6,
   "id": "563da377-78ed-40a9-8961-479702044075",
   "metadata": {},
   "outputs": [],
   "source": [
    "# 3. 定义编码函数\n",
    "def encode(text):\n",
    "    return [vocab.get(word, vocab[\"<UNK>\"]) for word in text.lower().split()]"
   ]
  },
  {
   "cell_type": "code",
   "execution_count": 7,
   "id": "a5e741a0-641b-4be3-a98c-25942c56d3c0",
   "metadata": {},
   "outputs": [],
   "source": [
    "# 4. 准备数据Loader\n",
    "def collate_fn(batch):\n",
    "    texts, labels = zip(*batch)\n",
    "    encoded = [torch.tensor(encode(text)) for text in texts]\n",
    "    padded = pad_sequence(encoded, batch_first=True, padding_value=vocab[\"<PAD>\"])\n",
    "    labels = torch.tensor(labels)\n",
    "    return padded, labels\n",
    "\n",
    "train_data = list(zip(dataset[\"text\"], dataset[\"label\"]))\n",
    "test_data  = list(zip(test_dataset[\"text\"], test_dataset[\"label\"]))\n",
    "\n",
    "train_loader = DataLoader(train_data, batch_size=64, shuffle=True, collate_fn=collate_fn)\n",
    "test_loader  = DataLoader(test_data, batch_size=64, shuffle=False, collate_fn=collate_fn)"
   ]
  },
  {
   "cell_type": "code",
   "execution_count": 8,
   "id": "8ad9b7e9-f48f-4c6d-b789-b61181b2cc41",
   "metadata": {},
   "outputs": [
    {
     "name": "stdout",
     "output_type": "stream",
     "text": [
      "SentimentRNN(\n",
      "  (embedding): Embedding(55780, 128)\n",
      "  (rnn): RNN(128, 128, batch_first=True)\n",
      "  (fc): Linear(in_features=128, out_features=2, bias=True)\n",
      ")\n"
     ]
    }
   ],
   "source": [
    "# 5. 定义模型\n",
    "class SentimentRNN(nn.Module):\n",
    "    def __init__(self, vocab_size, embedding_dim, hidden_size, output_size):\n",
    "        super(SentimentRNN, self).__init__()\n",
    "        self.embedding = nn.Embedding(vocab_size, embedding_dim)\n",
    "        self.rnn = nn.RNN(embedding_dim, hidden_size, batch_first=True)\n",
    "        self.fc = nn.Linear(hidden_size, output_size)\n",
    "\n",
    "    def forward(self, x):\n",
    "        x = self.embedding(x)\n",
    "        out, h_n = self.rnn(x)\n",
    "        out = h_n[-1]  # 取最后一个隐藏状态\n",
    "        out = self.fc(out)\n",
    "        return out\n",
    "\n",
    "model = SentimentRNN(vocab_size=len(vocab), embedding_dim=128, hidden_size=128, output_size=2)\n",
    "print(model)"
   ]
  },
  {
   "cell_type": "code",
   "execution_count": 9,
   "id": "1e696aa4-7413-4a9e-a0bb-adbbb32231f8",
   "metadata": {},
   "outputs": [],
   "source": [
    "# 6. 损失函数 & 优化器\n",
    "criterion = nn.CrossEntropyLoss()\n",
    "optimizer = optim.Adam(model.parameters(), lr=0.001)"
   ]
  },
  {
   "cell_type": "code",
   "execution_count": 10,
   "id": "db82033c-efef-43c5-b4b2-87f9d512fb0e",
   "metadata": {},
   "outputs": [
    {
     "name": "stderr",
     "output_type": "stream",
     "text": [
      "Epoch 1: 100%|██████████| 40/40 [00:09<00:00,  4.31it/s]\n"
     ]
    },
    {
     "name": "stdout",
     "output_type": "stream",
     "text": [
      "Epoch [1/5], Loss: 0.0413\n"
     ]
    },
    {
     "name": "stderr",
     "output_type": "stream",
     "text": [
      "Epoch 2: 100%|██████████| 40/40 [00:08<00:00,  4.49it/s]\n"
     ]
    },
    {
     "name": "stdout",
     "output_type": "stream",
     "text": [
      "Epoch [2/5], Loss: 0.0009\n"
     ]
    },
    {
     "name": "stderr",
     "output_type": "stream",
     "text": [
      "Epoch 3: 100%|██████████| 40/40 [00:08<00:00,  4.77it/s]\n"
     ]
    },
    {
     "name": "stdout",
     "output_type": "stream",
     "text": [
      "Epoch [3/5], Loss: 0.0005\n"
     ]
    },
    {
     "name": "stderr",
     "output_type": "stream",
     "text": [
      "Epoch 4: 100%|██████████| 40/40 [00:09<00:00,  4.06it/s]\n"
     ]
    },
    {
     "name": "stdout",
     "output_type": "stream",
     "text": [
      "Epoch [4/5], Loss: 0.0003\n"
     ]
    },
    {
     "name": "stderr",
     "output_type": "stream",
     "text": [
      "Epoch 5: 100%|██████████| 40/40 [00:10<00:00,  3.69it/s]"
     ]
    },
    {
     "name": "stdout",
     "output_type": "stream",
     "text": [
      "Epoch [5/5], Loss: 0.0003\n",
      "Training complete!\n"
     ]
    },
    {
     "name": "stderr",
     "output_type": "stream",
     "text": [
      "\n"
     ]
    }
   ],
   "source": [
    "# 7. 训练模型\n",
    "epochs = 5\n",
    "for epoch in range(epochs):\n",
    "    model.train()\n",
    "    running_loss = 0.0\n",
    "    for inputs, labels in tqdm(train_loader, desc=f\"Epoch {epoch+1}\"):\n",
    "        outputs = model(inputs)\n",
    "        loss = criterion(outputs, labels)\n",
    "\n",
    "        optimizer.zero_grad()\n",
    "        loss.backward()\n",
    "        optimizer.step()\n",
    "\n",
    "        running_loss += loss.item()\n",
    "\n",
    "    print(f\"Epoch [{epoch+1}/{epochs}], Loss: {running_loss/len(train_loader):.4f}\")\n",
    "\n",
    "print(\"Training complete!\")"
   ]
  },
  {
   "cell_type": "code",
   "execution_count": 11,
   "id": "f3434b28-c708-408e-b63e-3af14b88abf3",
   "metadata": {},
   "outputs": [
    {
     "name": "stdout",
     "output_type": "stream",
     "text": [
      "Test Accuracy: 100.00%\n"
     ]
    }
   ],
   "source": [
    "# 8. 测试模型\n",
    "model.eval()\n",
    "correct = 0\n",
    "total = 0\n",
    "with torch.no_grad():\n",
    "    for inputs, labels in test_loader:\n",
    "        outputs = model(inputs)\n",
    "        preds = torch.argmax(outputs, dim=1)\n",
    "        correct += (preds == labels).sum().item()\n",
    "        total += labels.size(0)\n",
    "\n",
    "print(f\"Test Accuracy: {100 * correct / total:.2f}%\")"
   ]
  },
  {
   "cell_type": "markdown",
   "id": "2a3c76ed-4fe4-4083-baa9-a33201c43f3b",
   "metadata": {},
   "source": [
    "## 参数量计算：RNN隐藏层\n",
    "\n",
    "对于一层标准的 `nn.RNN(input_size, hidden_size)`，它包含以下可训练参数：\n",
    "\n",
    "| 参数 | 尺寸 | 说明 |\n",
    "|:---|:---|:---|\n",
    "| $W_{ih}$ | (hidden_size, input_size) | 输入到隐藏层的权重 |\n",
    "| $ W_{hh} $ | (hidden_size, hidden_size) | 隐藏层到隐藏层的权重 |\n",
    "| $ b_{ih} $ | (hidden_size,) | 输入到隐藏层的偏置 |\n",
    "| $ b_{hh} $ | (hidden_size,) | 隐藏到隐藏层的偏置 |\n",
    "\n",
    "所以参数总量计算公式为：\n",
    "\n",
    "$\n",
    "\\text{参数总量} = (hidden\\_size \\times input\\_size) + (hidden\\_size \\times hidden\\_size) + (hidden\\_size) + (hidden\\_size)\n",
    "$\n",
    "\n",
    "---\n",
    "\n",
    "### 在本项目中：\n",
    "\n",
    "- `input_size = 128`\n",
    "- `hidden_size = 128`\n",
    "\n",
    "代入公式：\n",
    "\n",
    "$\n",
    "\\text{参数总量} = (128 \\times 128) + (128 \\times 128) + 128 + 128 = 33,024\n",
    "$\n",
    "\n",
    "---\n",
    "\n",
    "### 小结\n",
    "\n",
    "- $ W_{ih} $：128 × 128 = 16,384个参数\n",
    "- $ W_{hh} $：128 × 128 = 16,384个参数\n",
    "- $ b_{ih} $：128个参数\n",
    "- $ b_{hh} $：128个参数\n",
    "\n",
    "**总计：33,024个可训练参数。**\n",
    "\n"
   ]
  },
  {
   "cell_type": "code",
   "execution_count": null,
   "id": "3aaad8b2-3c09-4a18-80ab-0d7a4a6a0abe",
   "metadata": {},
   "outputs": [],
   "source": []
  }
 ],
 "metadata": {
  "kernelspec": {
   "display_name": "Python 3 (ipykernel)",
   "language": "python",
   "name": "python3"
  },
  "language_info": {
   "codemirror_mode": {
    "name": "ipython",
    "version": 3
   },
   "file_extension": ".py",
   "mimetype": "text/x-python",
   "name": "python",
   "nbconvert_exporter": "python",
   "pygments_lexer": "ipython3",
   "version": "3.10.16"
  }
 },
 "nbformat": 4,
 "nbformat_minor": 5
}
