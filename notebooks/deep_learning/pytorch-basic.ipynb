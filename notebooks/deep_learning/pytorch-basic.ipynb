{
 "cells": [
  {
   "cell_type": "code",
   "execution_count": 1,
   "id": "09692014-ac01-4a70-b356-3be3c17d65f9",
   "metadata": {},
   "outputs": [
    {
     "name": "stdout",
     "output_type": "stream",
     "text": [
      "tensor([1, 2, 3])\n",
      "tensor([5, 7, 9])\n",
      "tensor([ 4, 10, 18])\n",
      "tensor(32)\n",
      "tensor([[0, 1, 2],\n",
      "        [3, 4, 5],\n",
      "        [6, 7, 8]])\n",
      "tensor([3, 4, 5])\n",
      "tensor([2, 5, 8])\n",
      "tensor([0, 1, 2, 3, 4, 5, 6, 7, 8])\n"
     ]
    }
   ],
   "source": [
    "# PyTorch基础学习笔记\n",
    "\n",
    "# 1. Tensor操作\n",
    "import torch\n",
    "\n",
    "# 创建Tensor\n",
    "x = torch.tensor([1, 2, 3])\n",
    "print(x)\n",
    "\n",
    "# 基本运算\n",
    "y = torch.tensor([4, 5, 6])\n",
    "print(x + y)       # 加法\n",
    "print(x * y)       # 乘法\n",
    "print(x @ y)       # 点积（向量点积）\n",
    "\n",
    "# 索引、切片、形状变化\n",
    "z = torch.arange(9).reshape(3, 3)\n",
    "print(z)\n",
    "print(z[1, :])     # 第2行\n",
    "print(z[:, 2])     # 第3列\n",
    "print(z.view(9))   # 拉平成一维\n"
   ]
  },
  {
   "cell_type": "code",
   "execution_count": 2,
   "id": "0cce4465-1ba0-4c16-9ba2-26611e10b628",
   "metadata": {},
   "outputs": [],
   "source": [
    "# 使用GPU加速（如果有GPU）\n",
    "if torch.cuda.is_available():\n",
    "    x = x.to('cuda')\n",
    "    print(\"Tensor moved to GPU\")"
   ]
  },
  {
   "cell_type": "code",
   "execution_count": 3,
   "id": "39b482e5-f739-4631-bda8-e554cc15c3cf",
   "metadata": {},
   "outputs": [
    {
     "name": "stdout",
     "output_type": "stream",
     "text": [
      "tensor(6., grad_fn=<MulBackward0>)\n",
      "tensor(3.)\n",
      "tensor(2.)\n"
     ]
    }
   ],
   "source": [
    "# 2. 自动微分（Autograd）\n",
    "\n",
    "# 创建带梯度的Tensor\n",
    "a = torch.tensor(2.0, requires_grad=True)\n",
    "b = torch.tensor(3.0, requires_grad=True)\n",
    "c = a * b\n",
    "print(c)\n",
    "\n",
    "# 反向传播计算梯度\n",
    "c.backward()\n",
    "print(a.grad)  # dc/da = b = 3\n",
    "print(b.grad)  # dc/db = a = 2"
   ]
  },
  {
   "cell_type": "code",
   "execution_count": 4,
   "id": "ac5f1d8a-9eda-419c-8792-50dfc0fb5a92",
   "metadata": {},
   "outputs": [
    {
     "name": "stdout",
     "output_type": "stream",
     "text": [
      "SimpleNN(\n",
      "  (fc1): Linear(in_features=2, out_features=4, bias=True)\n",
      "  (fc2): Linear(in_features=4, out_features=1, bias=True)\n",
      ")\n"
     ]
    }
   ],
   "source": [
    "# 3. 神经网络模块（nn.Module）\n",
    "import torch.nn as nn\n",
    "\n",
    "# 定义一个简单的两层神经网络\n",
    "class SimpleNN(nn.Module):\n",
    "    def __init__(self):\n",
    "        super(SimpleNN, self).__init__()\n",
    "        self.fc1 = nn.Linear(2, 4)\n",
    "        self.fc2 = nn.Linear(4, 1)\n",
    "\n",
    "    def forward(self, x):\n",
    "        x = torch.relu(self.fc1(x))\n",
    "        x = self.fc2(x)\n",
    "        return x\n",
    "\n",
    "model = SimpleNN()\n",
    "print(model)"
   ]
  },
  {
   "cell_type": "code",
   "execution_count": 5,
   "id": "8cc7ae69-1c33-4a5c-9443-82663e1d891c",
   "metadata": {},
   "outputs": [
    {
     "name": "stdout",
     "output_type": "stream",
     "text": [
      "tensor(0.2500, grad_fn=<MseLossBackward0>)\n",
      "tensor(2.0038)\n"
     ]
    }
   ],
   "source": [
    "# 4. 损失函数\n",
    "\n",
    "# 均方误差损失\n",
    "mse_loss = nn.MSELoss()\n",
    "pred = torch.tensor([0.5], requires_grad=True)\n",
    "target = torch.tensor([1.0])\n",
    "loss = mse_loss(pred, target)\n",
    "print(loss)\n",
    "\n",
    "# 交叉熵损失（分类用）\n",
    "ce_loss = nn.CrossEntropyLoss()\n",
    "preds = torch.randn(3, 5)  # batch=3, class=5\n",
    "targets = torch.tensor([1, 0, 4])\n",
    "loss = ce_loss(preds, targets)\n",
    "print(loss)"
   ]
  },
  {
   "cell_type": "code",
   "execution_count": 6,
   "id": "93747960-edf8-482b-93ea-9d0eb44cfef3",
   "metadata": {},
   "outputs": [],
   "source": [
    "# 5. 优化器\n",
    "import torch.optim as optim\n",
    "\n",
    "optimizer = optim.SGD(model.parameters(), lr=0.01)\n",
    "\n",
    "# 训练一步示例\n",
    "input_sample = torch.randn(1, 2)\n",
    "output = model(input_sample)\n",
    "target = torch.randn(1, 1)\n",
    "\n",
    "loss = mse_loss(output, target)\n",
    "optimizer.zero_grad()\n",
    "loss.backward()\n",
    "optimizer.step()"
   ]
  },
  {
   "cell_type": "code",
   "execution_count": 7,
   "id": "07a5ab35-c624-4119-83b8-aa6fbcf15b54",
   "metadata": {},
   "outputs": [
    {
     "name": "stdout",
     "output_type": "stream",
     "text": [
      "Epoch [1/5], Loss: 0.9978\n",
      "Epoch [2/5], Loss: 0.9937\n",
      "Epoch [3/5], Loss: 0.9897\n",
      "Epoch [4/5], Loss: 0.9860\n",
      "Epoch [5/5], Loss: 0.9825\n"
     ]
    }
   ],
   "source": [
    "# 6. 自定义训练循环\n",
    "\n",
    "# 准备数据\n",
    "X = torch.randn(100, 2)\n",
    "Y = torch.randn(100, 1)\n",
    "\n",
    "# 训练模型\n",
    "for epoch in range(5):\n",
    "    optimizer.zero_grad()\n",
    "    outputs = model(X)\n",
    "    loss = mse_loss(outputs, Y)\n",
    "    loss.backward()\n",
    "    optimizer.step()\n",
    "    print(f\"Epoch [{epoch+1}/5], Loss: {loss.item():.4f}\")"
   ]
  },
  {
   "cell_type": "code",
   "execution_count": 8,
   "id": "bd4cc26e-92f1-495f-af02-f5cd625a4ac9",
   "metadata": {},
   "outputs": [
    {
     "name": "stdout",
     "output_type": "stream",
     "text": [
      "Batch Loss: 0.9549804925918579\n"
     ]
    }
   ],
   "source": [
    "# 7. Dataset 和 DataLoader\n",
    "from torch.utils.data import Dataset, DataLoader\n",
    "\n",
    "# 自定义小数据集\n",
    "class MyDataset(Dataset):\n",
    "    def __init__(self):\n",
    "        self.X = torch.randn(50, 2)\n",
    "        self.Y = torch.randn(50, 1)\n",
    "\n",
    "    def __len__(self):\n",
    "        return len(self.X)\n",
    "\n",
    "    def __getitem__(self, idx):\n",
    "        return self.X[idx], self.Y[idx]\n",
    "\n",
    "train_dataset = MyDataset()\n",
    "train_loader = DataLoader(train_dataset, batch_size=10, shuffle=True)\n",
    "\n",
    "# 遍历DataLoader\n",
    "for batch_X, batch_Y in train_loader:\n",
    "    outputs = model(batch_X)\n",
    "    loss = mse_loss(outputs, batch_Y)\n",
    "    print(\"Batch Loss:\", loss.item())\n",
    "    break  # 这里只看一个batch示例"
   ]
  },
  {
   "cell_type": "code",
   "execution_count": 10,
   "id": "39280e3a-b350-4d2c-a99f-bf131f13e009",
   "metadata": {},
   "outputs": [
    {
     "ename": "TypeError",
     "evalue": "save() got an unexpected keyword argument 'weights_only'",
     "output_type": "error",
     "traceback": [
      "\u001b[1;31m---------------------------------------------------------------------------\u001b[0m",
      "\u001b[1;31mTypeError\u001b[0m                                 Traceback (most recent call last)",
      "Cell \u001b[1;32mIn[10], line 4\u001b[0m\n\u001b[0;32m      1\u001b[0m \u001b[38;5;66;03m# 8. 保存与加载模型\u001b[39;00m\n\u001b[0;32m      2\u001b[0m \n\u001b[0;32m      3\u001b[0m \u001b[38;5;66;03m# 保存模型参数\u001b[39;00m\n\u001b[1;32m----> 4\u001b[0m \u001b[43mtorch\u001b[49m\u001b[38;5;241;43m.\u001b[39;49m\u001b[43msave\u001b[49m\u001b[43m(\u001b[49m\u001b[43mmodel\u001b[49m\u001b[38;5;241;43m.\u001b[39;49m\u001b[43mstate_dict\u001b[49m\u001b[43m(\u001b[49m\u001b[43m)\u001b[49m\u001b[43m,\u001b[49m\u001b[43m \u001b[49m\u001b[38;5;124;43m\"\u001b[39;49m\u001b[38;5;124;43msimple_model.pth\u001b[39;49m\u001b[38;5;124;43m\"\u001b[39;49m\u001b[43m,\u001b[49m\u001b[43m \u001b[49m\u001b[43mweights_only\u001b[49m\u001b[38;5;241;43m=\u001b[39;49m\u001b[38;5;28;43;01mTrue\u001b[39;49;00m\u001b[43m)\u001b[49m\n\u001b[0;32m      6\u001b[0m \u001b[38;5;66;03m# 加载模型参数\u001b[39;00m\n\u001b[0;32m      7\u001b[0m model2 \u001b[38;5;241m=\u001b[39m SimpleNN()\n",
      "\u001b[1;31mTypeError\u001b[0m: save() got an unexpected keyword argument 'weights_only'"
     ]
    }
   ],
   "source": [
    "# 8. 保存与加载模型\n",
    "\n",
    "# 保存模型参数\n",
    "torch.save(model.state_dict(), \"simple_model.pth\", weights_only=True)\n",
    "\n",
    "# 加载模型参数\n",
    "model2 = SimpleNN()\n",
    "model2.load_state_dict(torch.load(\"simple_model.pth\"))\n",
    "model2.eval()\n",
    "print(\"模型加载完成\")"
   ]
  },
  {
   "cell_type": "code",
   "execution_count": null,
   "id": "cd58206e-4383-4328-90b6-5c9271d25a1d",
   "metadata": {},
   "outputs": [],
   "source": []
  }
 ],
 "metadata": {
  "kernelspec": {
   "display_name": "Python 3 (ipykernel)",
   "language": "python",
   "name": "python3"
  },
  "language_info": {
   "codemirror_mode": {
    "name": "ipython",
    "version": 3
   },
   "file_extension": ".py",
   "mimetype": "text/x-python",
   "name": "python",
   "nbconvert_exporter": "python",
   "pygments_lexer": "ipython3",
   "version": "3.10.16"
  }
 },
 "nbformat": 4,
 "nbformat_minor": 5
}
